{
  "nbformat": 4,
  "nbformat_minor": 0,
  "metadata": {
    "colab": {
      "name": "Spam_Filter.ipynb",
      "provenance": []
    },
    "kernelspec": {
      "name": "python3",
      "display_name": "Python 3"
    },
    "language_info": {
      "name": "python"
    }
  },
  "cells": [
    {
      "cell_type": "code",
      "source": [
        "import nltk\n",
        "nltk.download('punkt')\n",
        "nltk.download('stopwords')\n",
        "import pandas as pd\n",
        "import numpy as np\n"
      ],
      "metadata": {
        "id": "4wc9W_SO6Nt0",
        "colab": {
          "base_uri": "https://localhost:8080/"
        },
        "outputId": "9ea27828-da37-4dc3-8e5b-d57aef9b5b55"
      },
      "execution_count": 231,
      "outputs": [
        {
          "output_type": "stream",
          "name": "stdout",
          "text": [
            "[nltk_data] Downloading package punkt to /root/nltk_data...\n",
            "[nltk_data]   Package punkt is already up-to-date!\n",
            "[nltk_data] Downloading package stopwords to /root/nltk_data...\n",
            "[nltk_data]   Package stopwords is already up-to-date!\n"
          ]
        }
      ]
    },
    {
      "cell_type": "code",
      "source": [
        "df = pd.read_csv('spam.csv',sep='\\t',names = ['label','message'])"
      ],
      "metadata": {
        "id": "9gZwBE8wUSJF"
      },
      "execution_count": 232,
      "outputs": []
    },
    {
      "cell_type": "code",
      "source": [
        "df.head(5)"
      ],
      "metadata": {
        "colab": {
          "base_uri": "https://localhost:8080/",
          "height": 206
        },
        "id": "-uq081f_ax8k",
        "outputId": "b1b99d80-f300-44a2-afd8-f854efd75246"
      },
      "execution_count": 233,
      "outputs": [
        {
          "output_type": "execute_result",
          "data": {
            "text/plain": [
              "  label                                            message\n",
              "0   ham  Go until jurong point, crazy.. Available only ...\n",
              "1   ham                      Ok lar... Joking wif u oni...\n",
              "2  spam  Free entry in 2 a wkly comp to win FA Cup fina...\n",
              "3   ham  U dun say so early hor... U c already then say...\n",
              "4   ham  Nah I don't think he goes to usf, he lives aro..."
            ],
            "text/html": [
              "\n",
              "  <div id=\"df-ead8c978-76db-4c54-8906-678df7b0cfd7\">\n",
              "    <div class=\"colab-df-container\">\n",
              "      <div>\n",
              "<style scoped>\n",
              "    .dataframe tbody tr th:only-of-type {\n",
              "        vertical-align: middle;\n",
              "    }\n",
              "\n",
              "    .dataframe tbody tr th {\n",
              "        vertical-align: top;\n",
              "    }\n",
              "\n",
              "    .dataframe thead th {\n",
              "        text-align: right;\n",
              "    }\n",
              "</style>\n",
              "<table border=\"1\" class=\"dataframe\">\n",
              "  <thead>\n",
              "    <tr style=\"text-align: right;\">\n",
              "      <th></th>\n",
              "      <th>label</th>\n",
              "      <th>message</th>\n",
              "    </tr>\n",
              "  </thead>\n",
              "  <tbody>\n",
              "    <tr>\n",
              "      <th>0</th>\n",
              "      <td>ham</td>\n",
              "      <td>Go until jurong point, crazy.. Available only ...</td>\n",
              "    </tr>\n",
              "    <tr>\n",
              "      <th>1</th>\n",
              "      <td>ham</td>\n",
              "      <td>Ok lar... Joking wif u oni...</td>\n",
              "    </tr>\n",
              "    <tr>\n",
              "      <th>2</th>\n",
              "      <td>spam</td>\n",
              "      <td>Free entry in 2 a wkly comp to win FA Cup fina...</td>\n",
              "    </tr>\n",
              "    <tr>\n",
              "      <th>3</th>\n",
              "      <td>ham</td>\n",
              "      <td>U dun say so early hor... U c already then say...</td>\n",
              "    </tr>\n",
              "    <tr>\n",
              "      <th>4</th>\n",
              "      <td>ham</td>\n",
              "      <td>Nah I don't think he goes to usf, he lives aro...</td>\n",
              "    </tr>\n",
              "  </tbody>\n",
              "</table>\n",
              "</div>\n",
              "      <button class=\"colab-df-convert\" onclick=\"convertToInteractive('df-ead8c978-76db-4c54-8906-678df7b0cfd7')\"\n",
              "              title=\"Convert this dataframe to an interactive table.\"\n",
              "              style=\"display:none;\">\n",
              "        \n",
              "  <svg xmlns=\"http://www.w3.org/2000/svg\" height=\"24px\"viewBox=\"0 0 24 24\"\n",
              "       width=\"24px\">\n",
              "    <path d=\"M0 0h24v24H0V0z\" fill=\"none\"/>\n",
              "    <path d=\"M18.56 5.44l.94 2.06.94-2.06 2.06-.94-2.06-.94-.94-2.06-.94 2.06-2.06.94zm-11 1L8.5 8.5l.94-2.06 2.06-.94-2.06-.94L8.5 2.5l-.94 2.06-2.06.94zm10 10l.94 2.06.94-2.06 2.06-.94-2.06-.94-.94-2.06-.94 2.06-2.06.94z\"/><path d=\"M17.41 7.96l-1.37-1.37c-.4-.4-.92-.59-1.43-.59-.52 0-1.04.2-1.43.59L10.3 9.45l-7.72 7.72c-.78.78-.78 2.05 0 2.83L4 21.41c.39.39.9.59 1.41.59.51 0 1.02-.2 1.41-.59l7.78-7.78 2.81-2.81c.8-.78.8-2.07 0-2.86zM5.41 20L4 18.59l7.72-7.72 1.47 1.35L5.41 20z\"/>\n",
              "  </svg>\n",
              "      </button>\n",
              "      \n",
              "  <style>\n",
              "    .colab-df-container {\n",
              "      display:flex;\n",
              "      flex-wrap:wrap;\n",
              "      gap: 12px;\n",
              "    }\n",
              "\n",
              "    .colab-df-convert {\n",
              "      background-color: #E8F0FE;\n",
              "      border: none;\n",
              "      border-radius: 50%;\n",
              "      cursor: pointer;\n",
              "      display: none;\n",
              "      fill: #1967D2;\n",
              "      height: 32px;\n",
              "      padding: 0 0 0 0;\n",
              "      width: 32px;\n",
              "    }\n",
              "\n",
              "    .colab-df-convert:hover {\n",
              "      background-color: #E2EBFA;\n",
              "      box-shadow: 0px 1px 2px rgba(60, 64, 67, 0.3), 0px 1px 3px 1px rgba(60, 64, 67, 0.15);\n",
              "      fill: #174EA6;\n",
              "    }\n",
              "\n",
              "    [theme=dark] .colab-df-convert {\n",
              "      background-color: #3B4455;\n",
              "      fill: #D2E3FC;\n",
              "    }\n",
              "\n",
              "    [theme=dark] .colab-df-convert:hover {\n",
              "      background-color: #434B5C;\n",
              "      box-shadow: 0px 1px 3px 1px rgba(0, 0, 0, 0.15);\n",
              "      filter: drop-shadow(0px 1px 2px rgba(0, 0, 0, 0.3));\n",
              "      fill: #FFFFFF;\n",
              "    }\n",
              "  </style>\n",
              "\n",
              "      <script>\n",
              "        const buttonEl =\n",
              "          document.querySelector('#df-ead8c978-76db-4c54-8906-678df7b0cfd7 button.colab-df-convert');\n",
              "        buttonEl.style.display =\n",
              "          google.colab.kernel.accessAllowed ? 'block' : 'none';\n",
              "\n",
              "        async function convertToInteractive(key) {\n",
              "          const element = document.querySelector('#df-ead8c978-76db-4c54-8906-678df7b0cfd7');\n",
              "          const dataTable =\n",
              "            await google.colab.kernel.invokeFunction('convertToInteractive',\n",
              "                                                     [key], {});\n",
              "          if (!dataTable) return;\n",
              "\n",
              "          const docLinkHtml = 'Like what you see? Visit the ' +\n",
              "            '<a target=\"_blank\" href=https://colab.research.google.com/notebooks/data_table.ipynb>data table notebook</a>'\n",
              "            + ' to learn more about interactive tables.';\n",
              "          element.innerHTML = '';\n",
              "          dataTable['output_type'] = 'display_data';\n",
              "          await google.colab.output.renderOutput(dataTable, element);\n",
              "          const docLink = document.createElement('div');\n",
              "          docLink.innerHTML = docLinkHtml;\n",
              "          element.appendChild(docLink);\n",
              "        }\n",
              "      </script>\n",
              "    </div>\n",
              "  </div>\n",
              "  "
            ]
          },
          "metadata": {},
          "execution_count": 233
        }
      ]
    },
    {
      "cell_type": "code",
      "source": [
        "df.shape"
      ],
      "metadata": {
        "colab": {
          "base_uri": "https://localhost:8080/"
        },
        "id": "vknnjF7Ka1Df",
        "outputId": "8a04a1e4-9c8b-4d48-b2fc-69ff9c10426c"
      },
      "execution_count": 234,
      "outputs": [
        {
          "output_type": "execute_result",
          "data": {
            "text/plain": [
              "(5572, 2)"
            ]
          },
          "metadata": {},
          "execution_count": 234
        }
      ]
    },
    {
      "cell_type": "code",
      "source": [
        "import re\n",
        "from nltk.corpus import stopwords\n",
        "from nltk.stem.porter import PorterStemmer\n",
        "from nltk.stem import WordNetLemmatizer\n",
        "ps = PorterStemmer()"
      ],
      "metadata": {
        "id": "WWoVDKA-uShA"
      },
      "execution_count": 235,
      "outputs": []
    },
    {
      "cell_type": "code",
      "source": [
        "corpus = []\n",
        "for i in range(0,len(df)):\n",
        "    message = re.sub('[^a-zA-Z]',' ',df['message'][i])\n",
        "    message = message.lower()\n",
        "    message = message.split()\n",
        "    message = [ps.stem(word) for word in message if not word in stopwords.words('english')]\n",
        "    message = ' '.join(message)\n",
        "    corpus.append(message)"
      ],
      "metadata": {
        "id": "FzOdklGRVbMe"
      },
      "execution_count": 236,
      "outputs": []
    },
    {
      "cell_type": "code",
      "source": [
        "df['label'].unique()"
      ],
      "metadata": {
        "colab": {
          "base_uri": "https://localhost:8080/"
        },
        "id": "KlxRMmEAXLyl",
        "outputId": "bf832217-9818-49b5-c4ce-062e497592fc"
      },
      "execution_count": 237,
      "outputs": [
        {
          "output_type": "execute_result",
          "data": {
            "text/plain": [
              "array(['ham', 'spam'], dtype=object)"
            ]
          },
          "metadata": {},
          "execution_count": 237
        }
      ]
    },
    {
      "cell_type": "code",
      "source": [
        "df['label'].value_counts()"
      ],
      "metadata": {
        "colab": {
          "base_uri": "https://localhost:8080/"
        },
        "id": "ZcYDUbD-XxKU",
        "outputId": "d449b791-fcc4-4a53-bf89-6e2d5b62b00a"
      },
      "execution_count": 238,
      "outputs": [
        {
          "output_type": "execute_result",
          "data": {
            "text/plain": [
              "ham     4825\n",
              "spam     747\n",
              "Name: label, dtype: int64"
            ]
          },
          "metadata": {},
          "execution_count": 238
        }
      ]
    },
    {
      "cell_type": "code",
      "source": [
        "y = pd.get_dummies(df['label'],drop_first = True).to_numpy()"
      ],
      "metadata": {
        "id": "9giaOjkHYclH"
      },
      "execution_count": 239,
      "outputs": []
    },
    {
      "cell_type": "code",
      "source": [
        "y = y.reshape(1,-1)[0]"
      ],
      "metadata": {
        "id": "Oej-vmEEYcn3"
      },
      "execution_count": 240,
      "outputs": []
    },
    {
      "cell_type": "code",
      "source": [
        "from sklearn.feature_extraction.text import CountVectorizer,TfidfVectorizer\n",
        "cv = CountVectorizer(max_features=200)\n",
        "Tfidf = TfidfVectorizer(max_features=200)"
      ],
      "metadata": {
        "id": "0_wPBac7XLvW"
      },
      "execution_count": 241,
      "outputs": []
    },
    {
      "cell_type": "code",
      "source": [
        "X_cv = cv.fit_transform(corpus).toarray()\n",
        "Tfidf.fit(corpus)\n",
        "X_Tfidf = Tfidf.transform(corpus).toarray()"
      ],
      "metadata": {
        "id": "fvPcb1x-YcrN"
      },
      "execution_count": 242,
      "outputs": []
    },
    {
      "cell_type": "code",
      "source": [
        "X_cv.shape"
      ],
      "metadata": {
        "colab": {
          "base_uri": "https://localhost:8080/"
        },
        "id": "KWcHmaCAXL1_",
        "outputId": "b587995a-2d36-4b2d-ee6a-e7fb41d7382d"
      },
      "execution_count": 243,
      "outputs": [
        {
          "output_type": "execute_result",
          "data": {
            "text/plain": [
              "(5572, 200)"
            ]
          },
          "metadata": {},
          "execution_count": 243
        }
      ]
    },
    {
      "cell_type": "code",
      "source": [
        "X_Tfidf.shape"
      ],
      "metadata": {
        "colab": {
          "base_uri": "https://localhost:8080/"
        },
        "id": "lMPsj-vLaLqm",
        "outputId": "8ad04b9c-a7a1-42ec-e148-dfbe0e7d330e"
      },
      "execution_count": 244,
      "outputs": [
        {
          "output_type": "execute_result",
          "data": {
            "text/plain": [
              "(5572, 200)"
            ]
          },
          "metadata": {},
          "execution_count": 244
        }
      ]
    },
    {
      "cell_type": "code",
      "source": [
        "y"
      ],
      "metadata": {
        "colab": {
          "base_uri": "https://localhost:8080/"
        },
        "id": "LMHzEHf7b5I8",
        "outputId": "230df453-ae26-4011-95a2-54954ce83d42"
      },
      "execution_count": 245,
      "outputs": [
        {
          "output_type": "execute_result",
          "data": {
            "text/plain": [
              "array([0, 0, 1, ..., 0, 0, 0], dtype=uint8)"
            ]
          },
          "metadata": {},
          "execution_count": 245
        }
      ]
    },
    {
      "cell_type": "code",
      "source": [
        "from sklearn.model_selection import train_test_split\n",
        "X_cv_train,X_cv_test,y_cv_train,y_cv_test = train_test_split(X_cv,y,test_size = 0.2,random_state = 42)\n",
        "\n",
        "print('bag of words:',X_cv_train.shape,X_cv_test.shape,y_cv_train.shape,y_cv_test.shape)\n",
        "\n",
        "X_Tfidf_train, X_Tfidf_test, y_Tfidf_train, y_Tfidf_test = train_test_split(X_Tfidf,y,test_size = 0.2,random_state = 42)\n",
        "\n",
        "print('Tf-Idf:',X_Tfidf_train.shape, X_Tfidf_test.shape, y_Tfidf_train.shape, y_Tfidf_test.shape)"
      ],
      "metadata": {
        "colab": {
          "base_uri": "https://localhost:8080/"
        },
        "id": "_Fi2kbgha-NB",
        "outputId": "5846c4ac-73f9-48a0-d1c0-9956ad17a8ae"
      },
      "execution_count": 246,
      "outputs": [
        {
          "output_type": "stream",
          "name": "stdout",
          "text": [
            "bag of words: (4457, 200) (1115, 200) (4457,) (1115,)\n",
            "Tf-Idf: (4457, 200) (1115, 200) (4457,) (1115,)\n"
          ]
        }
      ]
    },
    {
      "cell_type": "code",
      "source": [
        "from sklearn.naive_bayes import MultinomialNB\n",
        "from sklearn.metrics import confusion_matrix\n",
        "model_1_cv = MultinomialNB()\n",
        "model_1_cv.fit(X_cv_train,y_cv_train)\n",
        "y_pred_cv = model_1_cv.predict(X_cv_test)\n",
        "print('Bag_of_words =\\n',confusion_matrix(y_pred_cv,y_cv_test))\n",
        "\n",
        "model_1_Tfidf = MultinomialNB()\n",
        "model_1_Tfidf.fit(X_Tfidf_train,y_Tfidf_train)\n",
        "y_pred_Tfidf = model_1_Tfidf.predict(X_Tfidf_test)\n",
        "print('Tf_Idf = \\n',confusion_matrix(y_pred_Tfidf,y_Tfidf_test))\n"
      ],
      "metadata": {
        "colab": {
          "base_uri": "https://localhost:8080/"
        },
        "id": "j8DMSh7QcZ1d",
        "outputId": "d66bcdd2-7599-43c8-be62-ee8165daac18"
      },
      "execution_count": 247,
      "outputs": [
        {
          "output_type": "stream",
          "name": "stdout",
          "text": [
            "Bag_of_words =\n",
            " [[950  15]\n",
            " [ 16 134]]\n",
            "Tf_Idf = \n",
            " [[962  23]\n",
            " [  4 126]]\n"
          ]
        }
      ]
    },
    {
      "cell_type": "code",
      "source": [
        "import tensorflow as tf\n"
      ],
      "metadata": {
        "id": "CNsxGAXakS_u"
      },
      "execution_count": 248,
      "outputs": []
    },
    {
      "cell_type": "code",
      "source": [
        "model_2_cv = tf.keras.Sequential(\n",
        "    [\n",
        "     tf.keras.layers.Dense(10,activation = 'relu'),\n",
        "     tf.keras.layers.Dense(10,activation = 'relu'),\n",
        "     tf.keras.layers.Dense(10,activation = 'relu'),\n",
        "     tf.keras.layers.Dense(1,activation = 'sigmoid')\n",
        "    ]\n",
        ")\n",
        "model_2_cv.compile(loss = tf.keras.losses.binary_crossentropy,metrics = ['accuracy'],optimizer = tf.keras.optimizers.Adam())\n",
        "model_2_cv.fit(X_cv_train,y_cv_train,epochs= 15,verbose = 0)\n",
        "y_pred_cv = model_2_cv.predict(X_cv_test)\n",
        "y_pred_cv = (y_pred_cv > 0.5)\n",
        "print('Bag_of_words =\\n',confusion_matrix(y_pred_cv,y_cv_test))\n",
        "\n",
        "model_2_Tfidf = tf.keras.Sequential(\n",
        "    [\n",
        "     tf.keras.layers.Dense(10,activation = 'relu'),\n",
        "     tf.keras.layers.Dense(10,activation = 'relu'),\n",
        "     tf.keras.layers.Dense(10,activation = 'relu'),\n",
        "     tf.keras.layers.Dense(1,activation = 'sigmoid')\n",
        "    ]\n",
        ")\n",
        "model_2_Tfidf.compile(loss = tf.keras.losses.binary_crossentropy,metrics = ['accuracy'],optimizer = tf.keras.optimizers.Adam())\n",
        "model_2_Tfidf.fit(X_Tfidf_train,y_Tfidf_train,epochs= 15,verbose = 0)\n",
        "y_pred_Tfidf = model_2_Tfidf.predict(X_Tfidf_test)\n",
        "y_pred_Tfidf = (y_pred_Tfidf>0.5)\n",
        "print('Tf_Idf = \\n',confusion_matrix(y_pred_Tfidf,y_Tfidf_test))"
      ],
      "metadata": {
        "colab": {
          "base_uri": "https://localhost:8080/"
        },
        "id": "FqsKnZcPlqCV",
        "outputId": "75248e3b-92ef-4e84-ec79-ef9864b26593"
      },
      "execution_count": 249,
      "outputs": [
        {
          "output_type": "stream",
          "name": "stdout",
          "text": [
            "Bag_of_words =\n",
            " [[955  12]\n",
            " [ 11 137]]\n",
            "Tf_Idf = \n",
            " [[956  12]\n",
            " [ 10 137]]\n"
          ]
        }
      ]
    }
  ]
}